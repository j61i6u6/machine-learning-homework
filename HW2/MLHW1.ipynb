{
 "cells": [
  {
   "cell_type": "code",
   "execution_count": 54,
   "metadata": {
    "scrolled": true
   },
   "outputs": [
    {
     "data": {
      "text/plain": [
       "<matplotlib.collections.PathCollection at 0x1a91596e8d0>"
      ]
     },
     "execution_count": 54,
     "metadata": {},
     "output_type": "execute_result"
    },
    {
     "data": {
      "image/png": "[encoded data removed]",
      "text/plain": [
       "<Figure size 432x288 with 1 Axes>"
      ]
     },
     "metadata": {},
     "output_type": "display_data"
    }
   ],
   "source": [
    "import pandas as pd\n",
    "import numpy as np\n",
    "import math\n",
    "import matplotlib.pyplot as plt\n",
    "from scipy import linalg\n",
    "\n",
    "#分開X,y\n",
    "df = pd.read_csv('1_data.csv')\n",
    "x = df.drop(['t'], axis=1)\n",
    "x2 = df.drop(['t'], axis=1)\n",
    "y = df.drop(['x'], axis=1)\n",
    "φ = df.drop(['t','x'], axis=1)\n",
    "\n",
    "#求出basic function\n",
    "for j in range(0,7):\n",
    "    s = 0.1\n",
    "    M = 7\n",
    "    uj = (4*j)/M\n",
    "    for i in range (0,100):\n",
    "        \n",
    "        x2.iloc[i,0] = 1/(1+math.exp((uj-x.iloc[i,0])/s))\n",
    "    φ=pd.concat([φ,x2],axis=1)\n",
    "\n",
    "    \n",
    "#分別把N設成 10,15,30,80\n",
    "φ = φ.iloc[0:80]\n",
    "y = y.iloc[0:80]\n",
    "xx = x.iloc[0:80]\n",
    "\n",
    "\n",
    "#第一小題求出Mn跟Sn\n",
    "φ_transpose = np.transpose(φ)\n",
    "SNinv = np.dot(φ_transpose,φ)\n",
    "I = 0.000001*np.identity(7)\n",
    "SNinv = I + SNinv\n",
    "SN = np.linalg.inv(SNinv)\n",
    "MN = np.dot(SN,φ_transpose)\n",
    "MN = np.dot(MN,y)\n",
    "MN = np.asarray(MN).ravel()\n",
    "\n",
    "\n",
    "\n",
    "#5個curve samples\n",
    "A1 = np.random.multivariate_normal(MN, SN,1)\n",
    "A1 = np.transpose(A1)\n",
    "\n",
    "A2 = np.random.multivariate_normal(MN, SN,1)\n",
    "A2 = np.transpose(A2)\n",
    "\n",
    "A3 = np.random.multivariate_normal(MN, SN,1)\n",
    "A3 = np.transpose(A3)\n",
    "\n",
    "A4 = np.random.multivariate_normal(MN, SN,1)\n",
    "A4 = np.transpose(A4)\n",
    "\n",
    "A5 = np.random.multivariate_normal(MN, SN,1)\n",
    "A5 = np.transpose(A5)\n",
    "\n",
    "\n",
    "\n",
    "\n",
    "#求function值的函數\n",
    "def my_function(x,w):\n",
    "    test = []\n",
    "    for j in range(0,7):\n",
    "        s = 0.1\n",
    "        M = 7\n",
    "        uj = (4*j)/M\n",
    "        aa = 1/(1+math.exp((uj-x)/s))\n",
    "        test.append(aa)\n",
    "    value = np.dot(test,w)\n",
    "    return value\n",
    "\n",
    "\n",
    "#求standard deviation\n",
    "stand = []\n",
    "for i in range (0,7):\n",
    "    stand.append(math.sqrt(SN[i,i]))\n",
    "maxMN = MN+stand\n",
    "minMN = MN-stand\n",
    "\n",
    "\n",
    "\n",
    "\n",
    "#畫圖\n",
    "testx = []\n",
    "test1 = []\n",
    "test2 = []\n",
    "test3 = []\n",
    "test4 = []\n",
    "test5 = []\n",
    "maxx = []\n",
    "minn = []\n",
    "mean = []\n",
    "x = 0\n",
    "for i in range (0,400):\n",
    "    x = x+0.01\n",
    "    testx.append(x)\n",
    "    test1.append(my_function(x,A1))\n",
    "    test2.append(my_function(x,A2))\n",
    "    test3.append(my_function(x,A3))\n",
    "    test4.append(my_function(x,A4))\n",
    "    test5.append(my_function(x,A5))\n",
    "    maxx.append(my_function(x,maxMN))\n",
    "    minn.append(my_function(x,minMN))\n",
    "    mean.append(my_function(x,MN))\n",
    "\n",
    "\n",
    "\n",
    "\n",
    "\n",
    "\n",
    "plt.fill_between(testx, maxx, minn,facecolor = \"yellow\")\n",
    "plt.plot(testx,mean)\n",
    "plt.scatter(xx,y)"
   ]
  },
  {
   "cell_type": "code",
   "execution_count": null,
   "metadata": {},
   "outputs": [],
   "source": []
  }
 ],
 "metadata": {
  "kernelspec": {
   "display_name": "Python 3",
   "language": "python",
   "name": "python3"
  },
  "language_info": {
   "codemirror_mode": {
    "name": "ipython",
    "version": 3
   },
   "file_extension": ".py",
   "mimetype": "text/x-python",
   "name": "python",
   "nbconvert_exporter": "python",
   "pygments_lexer": "ipython3",
   "version": "3.6.5"
  }
 },
 "nbformat": 4,
 "nbformat_minor": 2
}
