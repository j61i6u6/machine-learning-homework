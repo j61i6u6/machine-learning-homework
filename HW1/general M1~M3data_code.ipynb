{
 "cells": [
  {
   "cell_type": "code",
   "execution_count": 96,
   "metadata": {},
   "outputs": [],
   "source": [
    "import pandas as pd\n",
    "import numpy as np\n",
    "df = pd.read_csv('dm\\housing.csv')\n",
    "#區別出y跟x\n",
    "x = df.drop(['median_house_value'], axis=1)\n",
    "y = df.drop(['total_rooms','population','median_income'], axis=1)\n",
    "y.to_csv('y.csv')\n",
    "#rename欄位以及加入W0,M=1的欄位\n",
    "x['W0']=1\n",
    "x = x[['W0','total_rooms','population','median_income']]\n",
    "x.columns = ['W0', 'X1', 'X2', 'X3']\n",
    "y.columns = ['y']\n",
    "x.to_csv('M1.csv')\n",
    "\n",
    "#M=2欄位\n",
    "for i in range (1,4):\n",
    "    for j in range (1,4):\n",
    "        columns = str(i)+str(j)\n",
    "        x[columns]=columns\n",
    "\n",
    "#填好各個維度欄位\n",
    "for i in range (0,20640):\n",
    "    for j in range (4,13):\n",
    "        aa = x.iloc[i,j]\n",
    "        a = int(aa[0])\n",
    "        b = int(aa[1])\n",
    "        x.iloc[i,j] = x.iloc[i,a]*x.iloc[i,b]             \n",
    "x.to_csv('M2.csv')\n",
    "\n",
    "#M=3欄位\n",
    "for i in range (1,4):\n",
    "    for j in range (1,4):\n",
    "        for k in range (1,4):\n",
    "            columns = str(i)+str(j)+str(k)\n",
    "            x[columns]=columns\n",
    "            \n",
    "for i in range (0,20640):\n",
    "    for j in range (13,40):\n",
    "        aa = x.iloc[i,j]\n",
    "        a = int(aa[0])\n",
    "        b = int(aa[1])\n",
    "        c = int(aa[2])\n",
    "        x.iloc[i,j] = x.iloc[i,a]*x.iloc[i,b]*x.iloc[i,c]      \n",
    "x.to_csv('M3.csv')            \n",
    "           \n",
    "            \n",
    "\n",
    "\n"
   ]
  },
  {
   "cell_type": "code",
   "execution_count": null,
   "metadata": {},
   "outputs": [],
   "source": []
  }
 ],
 "metadata": {
  "kernelspec": {
   "display_name": "Python 3",
   "language": "python",
   "name": "python3"
  },
  "language_info": {
   "codemirror_mode": {
    "name": "ipython",
    "version": 3
   },
   "file_extension": ".py",
   "mimetype": "text/x-python",
   "name": "python",
   "nbconvert_exporter": "python",
   "pygments_lexer": "ipython3",
   "version": "3.6.5"
  }
 },
 "nbformat": 4,
 "nbformat_minor": 2
}
