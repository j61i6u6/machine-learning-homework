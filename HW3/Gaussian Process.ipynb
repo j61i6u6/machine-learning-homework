{
 "cells": [
  {
   "cell_type": "code",
   "execution_count": 101,
   "metadata": {},
   "outputs": [
    {
     "name": "stdout",
     "output_type": "stream",
     "text": [
      "trainerror 1.0606651654811712\n",
      "testerror 1.243345786045708\n"
     ]
    },
    {
     "data": {
      "text/plain": [
       "Text(0.5,1,'θ = 1,64,10,0')"
      ]
     },
     "execution_count": 101,
     "metadata": {},
     "output_type": "execute_result"
    },
    {
     "data": {
      "image/png": "[encoded data removed]",
      "text/plain": [
       "<Figure size 432x288 with 1 Axes>"
      ]
     },
     "metadata": {},
     "output_type": "display_data"
    }
   ],
   "source": [
    "import pandas as pd\n",
    "import numpy as np\n",
    "import math\n",
    "import matplotlib.pyplot as plt\n",
    "from scipy import linalg\n",
    "import math\n",
    "\n",
    "#讀資料分資料\n",
    "C = pd.DataFrame(np.random.randint(low=0, high=1, size=(60,60)))\n",
    "df = pd.read_csv('gp.csv',header=None)\n",
    "train_x = df.iloc[0:60,0:1]\n",
    "train_y = df.iloc[0:60,1:2]\n",
    "test_x = df.iloc[60:120,0:1]\n",
    "test_y = df.iloc[60:120,1:2]\n",
    "\n",
    "\n",
    "#定義找出covariance matrix的函數\n",
    "def build_C(θ0,θ1,θ2,θ3):\n",
    "    for i in range(0,60):\n",
    "        for j in range(0,60):\n",
    "            if i == j:\n",
    "                b=1\n",
    "            if i != j:\n",
    "                b=0\n",
    "            a = (train_x.iloc[i,0]-train_x.iloc[j,0])*(train_x.iloc[i,0]-train_x.iloc[j,0])\n",
    "            C.iloc[i,j] = θ0*math.exp(-(θ1/2)*a)+θ2+θ3*(train_x.iloc[i,0]*train_x.iloc[j,0])+b\n",
    "            \n",
    "\n",
    "build_C(1,64,10,0)\n",
    "\n",
    "\n",
    "#定義找出預測值的mean,standard deviation 的函數\n",
    "def find(x,θ0,θ1,θ2,θ3):\n",
    "    k = pd.DataFrame(np.random.randint(low=0, high=1, size=(60,1)))\n",
    "\n",
    "    for i in range(0,60):\n",
    "        a = (x-train_x.iloc[i,0])*(x-train_x.iloc[i,0])\n",
    "        b = x*train_x.iloc[i,0]\n",
    "        k.iloc[i,0] = θ0*math.exp(-(θ1/2)*a)+θ2+θ3*b\n",
    "    k_trans = np.transpose(k)\n",
    "    c_vin = np.linalg.inv(C)\n",
    "    final = np.dot(k_trans,c_vin)\n",
    "    final = np.dot(final,train_y)\n",
    "    \n",
    "    small_c = θ0*math.exp(0)+θ2+θ3*x*x\n",
    "    variance = math.sqrt(small_c-np.dot(np.dot(k_trans,c_vin),k)[0][0])+1\n",
    "    return final[0][0],variance\n",
    "\n",
    "\n",
    "#計算train,test的error\n",
    "trainerror = 0\n",
    "testerror = 0\n",
    "for i in range(0,60):\n",
    "    x = train_x.iloc[i,0]\n",
    "    y = train_y.iloc[i,0]\n",
    "    m,v = find(x,1,64,10,0)\n",
    "    dis = (m-y)*(m-y)\n",
    "    trainerror = trainerror+dis\n",
    "    \n",
    "for i in range(0,60):\n",
    "    x = test_x.iloc[i,0]\n",
    "    y = test_y.iloc[i,0]\n",
    "    m,v = find(x,1,64,10,0)\n",
    "    dis = (m-y)*(m-y)\n",
    "    testerror = testerror+dis  \n",
    "    \n",
    "trainerror = math.sqrt(trainerror/60)\n",
    "testerror = math.sqrt(testerror/60)\n",
    "print('trainerror',trainerror)\n",
    "print('testerror',testerror)\n",
    "\n",
    "\n",
    "\n",
    "\n",
    "\n",
    "#畫圖\n",
    "plotx = []\n",
    "ploty = []\n",
    "plotmin = []\n",
    "plotmax = []\n",
    "x = 0\n",
    "for i in range (0,200):\n",
    "    plotx.append(x)\n",
    "    mean,var = find(x,1,64,10,0)\n",
    "    ploty.append(mean)\n",
    "    plotmin.append(mean-var)\n",
    "    plotmax.append(mean+var)\n",
    "    x=x+0.01\n",
    "\n",
    "\n",
    "plotpointx = train_x.values    \n",
    "plotpointy = train_y.values    \n",
    "    \n",
    "    \n",
    "plt.fill_between(plotx, plotmax, plotmin,facecolor = \"pink\")\n",
    "plt.plot(plotx,ploty,color = 'red')\n",
    "plt.scatter(plotpointx,plotpointy,color = 'blue')\n",
    " \n",
    "plt.title('θ = 1,64,10,0')"
   ]
  },
  {
   "cell_type": "code",
   "execution_count": null,
   "metadata": {},
   "outputs": [],
   "source": []
  },
  {
   "cell_type": "code",
   "execution_count": null,
   "metadata": {},
   "outputs": [],
   "source": []
  }
 ],
 "metadata": {
  "kernelspec": {
   "display_name": "Python 3",
   "language": "python",
   "name": "python3"
  },
  "language_info": {
   "codemirror_mode": {
    "name": "ipython",
    "version": 3
   },
   "file_extension": ".py",
   "mimetype": "text/x-python",
   "name": "python",
   "nbconvert_exporter": "python",
   "pygments_lexer": "ipython3",
   "version": "3.6.5"
  }
 },
 "nbformat": 4,
 "nbformat_minor": 2
}
